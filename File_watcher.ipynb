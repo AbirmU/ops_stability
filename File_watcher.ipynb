{
 "cells": [
  {
   "cell_type": "code",
   "execution_count": 1,
   "id": "6d2945c8",
   "metadata": {},
   "outputs": [],
   "source": [
    "import tableauserverclient as TSC\n",
    "import os\n",
    "import pandas as pd\n",
    "import smtplib\n",
    "from urllib3 import disable_warnings"
   ]
  },
  {
   "cell_type": "code",
   "execution_count": 2,
   "id": "039889a6",
   "metadata": {},
   "outputs": [],
   "source": [
    "ds_config_path = r'C:\\Users\\abirm.USEREADYTECH\\OneDrive - USEReady Technology Private Limited\\Desktop\\ab\\updated scripts\\Citi bank opstability\\file_watcher_script\\Ds_config.xlsx'\n",
    "file_watcher_path = r\"C:\\Users\\abirm.USEREADYTECH\\OneDrive - USEReady Technology Private Limited\\Desktop\\file watcher\"\n",
    "wait_time_second = 10\n",
    "\n",
    "\n"
   ]
  },
  {
   "cell_type": "code",
   "execution_count": 3,
   "id": "c67bbd5a",
   "metadata": {},
   "outputs": [],
   "source": [
    "# Getting the login credentials\n",
    "\n",
    "with open ('login_cred.txt','r') as fp:\n",
    "    lst = fp.readlines()\n",
    "cred_lst = list()    \n",
    "for i in lst:\n",
    "    i = i.replace('\\n','')\n",
    "    cred_lst.append(i)\n",
    "    \n",
    "server = cred_lst[0:cred_lst.index('')]\n",
    "cloud = cred_lst[cred_lst.index('')+1:len(cred_lst)]\n",
    "\n",
    "server_cred = dict()\n",
    "for i in server:\n",
    "    if i.find(':')>=0:\n",
    "        server_cred[i[0:i.index(':')]] = i[int(i.index(':')+1):len(i)].strip()\n",
    "        \n",
    "cloud_cred = dict()\n",
    "for i in cloud:\n",
    "    if i.find(':')>=0:\n",
    "        cloud_cred[i[0:i.index(':')]] = i[int(i.index(':')+1):len(i)].strip()"
   ]
  },
  {
   "cell_type": "code",
   "execution_count": 4,
   "id": "76e45eca",
   "metadata": {},
   "outputs": [
    {
     "data": {
      "text/plain": [
       "{'url': 'https://urcptableau.useready.com/',\n",
       " 'username': 'abirm',\n",
       " 'password': 'Sanju@2001',\n",
       " 'site': 'DataManagement'}"
      ]
     },
     "execution_count": 4,
     "metadata": {},
     "output_type": "execute_result"
    }
   ],
   "source": [
    "server_cred"
   ]
  },
  {
   "cell_type": "code",
   "execution_count": 8,
   "id": "55a222ba",
   "metadata": {},
   "outputs": [],
   "source": [
    "def login_tableau_tsc(server_cred):\n",
    "    \"\"\"\n",
    "    Checks if their is any data available on the server\n",
    "    \"\"\"\n",
    "    server_url=  server_cred['url']\n",
    "    username = server_cred['username']            \n",
    "    password = server_cred['password']                               \n",
    "    site =  server_cred['site']\n",
    "    tableau_auth = TSC.TableauAuth(username,password,site)\n",
    "    server = TSC.Server(server_url,use_server_version=True)\n",
    "    server.auth.sign_in(tableau_auth)\n",
    "    return tableau_auth,server\n",
    "\n",
    "def get_ds_config_file_list(file_path):\n",
    "    ds_config = pd.read_excel(file_path)\n",
    "    ds_config['file_name'] = ds_config['datasource_name']+'#'+ds_config['datasource_id']\n",
    "    file_list = list()\n",
    "    for i in ds_config.file_name.unique():\n",
    "        file_list.append(i.replace(' ',''))\n",
    "    return file_list\n",
    "\n",
    "def get_file_list(file_path):\n",
    "    # list to store files\n",
    "    filelist = []\n",
    "\n",
    "    # Iterate directory\n",
    "    for path in os.listdir(file_path):\n",
    "        # check if current path is a file\n",
    "        if os.path.isfile(os.path.join(file_path, path)):\n",
    "            filelist.append(path.split('.txt')[0])\n",
    "    return filelist\n",
    "\n",
    "def check_datasource_available(datasource_id,tableau_auth):\n",
    "    with server.auth.sign_in(tableau_auth):\n",
    "        all_datasources = []\n",
    "        cnt = 1000\n",
    "        page = 1\n",
    "        while cnt == 1000:\n",
    "            a_w,p_i = server.datasources.get(req_options=TSC.RequestOptions(pagenumber=page,pagesize=1000))\n",
    "            cnt = len(a_w)\n",
    "            page += 1\n",
    "            all_datasources += a_w\n",
    "    temp = []\n",
    "    for ds in all_datasources:\n",
    "        temp.append(ds.id)\n",
    "    if datasource_id in temp:\n",
    "        return True\n",
    "    else:\n",
    "        return False\n",
    "    \n",
    "def send_notification(message,sender_list):\n",
    "    server = smtplib.SMTP_SSL('smtp.gmail.com',465)\n",
    "    server.login('abir.meshram.1999@gmail.com', 'dajm uquf gsyg orlq')\n",
    "    for sender in sender_list:\n",
    "        server.sendmail('abir.meshram.1999@gmail.com',sender,message)\n",
    "    server.quit()\n"
   ]
  },
  {
   "cell_type": "code",
   "execution_count": 9,
   "id": "93ffd175",
   "metadata": {},
   "outputs": [],
   "source": [
    "tableau_auth,server = login_tableau_tsc(server_cred)\n",
    "ds_config_file_list = get_ds_config_file_list(ds_config_path)\n",
    "file_watcher_file_list = get_file_list(file_watcher_path)"
   ]
  },
  {
   "cell_type": "code",
   "execution_count": 10,
   "id": "580ff2dc",
   "metadata": {},
   "outputs": [
    {
     "data": {
      "text/plain": [
       "['Sample_ds_1#e36ea6b4-9cfa-464b-8395-6ec06ce6d782',\n",
       " 'Sample_ds_2#36e64912-ddb6-402a-aa94-70cd33e46ec9']"
      ]
     },
     "execution_count": 10,
     "metadata": {},
     "output_type": "execute_result"
    }
   ],
   "source": [
    "ds_config_file_list"
   ]
  },
  {
   "cell_type": "code",
   "execution_count": 11,
   "id": "99e23a42",
   "metadata": {},
   "outputs": [
    {
     "data": {
      "text/plain": [
       "['Sample_ds_1#e36ea6b4-9cfa-464b-8395-6ec06ce6d782']"
      ]
     },
     "execution_count": 11,
     "metadata": {},
     "output_type": "execute_result"
    }
   ],
   "source": [
    "file_watcher_file_list"
   ]
  },
  {
   "cell_type": "code",
   "execution_count": 12,
   "id": "a48435de",
   "metadata": {},
   "outputs": [],
   "source": [
    "with server.auth.sign_in(tableau_auth):\n",
    "    all_datasources = []\n",
    "    cnt = 1000\n",
    "    page = 1\n",
    "    while cnt == 1000:\n",
    "        a_w,p_i = server.datasources.get(req_options=TSC.RequestOptions(pagenumber=page,pagesize=1000))\n",
    "        cnt = len(a_w)\n",
    "        page += 1\n",
    "        all_datasources += a_w\n",
    "        \n",
    "    all_tasks = []\n",
    "    cnt = 1000\n",
    "    page = 1\n",
    "    while cnt == 1000:\n",
    "        a_w,p_i = server.tasks.get(req_options=TSC.RequestOptions(pagenumber=page,pagesize=1000))\n",
    "        cnt = len(a_w)\n",
    "        page += 1\n",
    "        all_tasks += a_w\n",
    "            "
   ]
  },
  {
   "cell_type": "code",
   "execution_count": 23,
   "id": "8c7669d8",
   "metadata": {},
   "outputs": [
    {
     "name": "stdout",
     "output_type": "stream",
     "text": [
      "19a5db93-c7ed-46a4-8a2f-7e5cd25887f3 datasource ca0c0575-9701-4192-9526-30dd8d25ccd7\n",
      "01205113-e1ac-4934-92ce-392ab7bb1499 datasource e36ea6b4-9cfa-464b-8395-6ec06ce6d782\n"
     ]
    }
   ],
   "source": [
    "for task in all_tasks:\n",
    "    print(task.id,task.target.type,task.target.id)"
   ]
  },
  {
   "cell_type": "code",
   "execution_count": 27,
   "id": "06096320",
   "metadata": {},
   "outputs": [
    {
     "data": {
      "text/plain": [
       "b'<?xml version=\\'1.0\\' encoding=\\'UTF-8\\'?><tsResponse xmlns=\"http://tableau.com/api\" xmlns:xsi=\"http://www.w3.org/2001/XMLSchema-instance\" xsi:schemaLocation=\"http://tableau.com/api https://help.tableau.com/samples/en-us/rest_api/ts-api_3_15.xsd\"><job id=\"ff384cc2-a525-4f8b-8ac7-95c459feaa0e\" mode=\"Asynchronous\" type=\"RefreshExtract\" createdAt=\"2023-12-08T15:37:17Z\"><extractRefreshJob><datasource id=\"ca0c0575-9701-4192-9526-30dd8d25ccd7\" name=\"Sample - Superstore Published DS\"/></extractRefreshJob></job></tsResponse>'"
      ]
     },
     "execution_count": 27,
     "metadata": {},
     "output_type": "execute_result"
    }
   ],
   "source": [
    "with server.auth.sign_in(tableau_auth):\n",
    "    run = server.tasks.run(all_tasks[0])\n",
    "    \n",
    "run"
   ]
  },
  {
   "cell_type": "code",
   "execution_count": 21,
   "id": "786c8f6c",
   "metadata": {},
   "outputs": [
    {
     "name": "stdout",
     "output_type": "stream",
     "text": [
      "False Superstore-Snowflake-Demo\n",
      "False SuperStore_SF\n",
      "True Sample - Superstore Published DS\n",
      "True PostgreSQL Extract Test DS\n",
      "False Operational Stability Datamodel\n",
      "False Operational Stability Datamodel V1.1\n",
      "True Sample_ds_1\n",
      "True Sample_ds_2\n"
     ]
    }
   ],
   "source": [
    "with server.auth.sign_in(tableau_auth):\n",
    "    for ds in all_datasources:\n",
    "        ds = server.datasources.get_by_id(ds.id)\n",
    "        print(ds.has_extracts,ds.name)"
   ]
  },
  {
   "cell_type": "code",
   "execution_count": 14,
   "id": "80ddf375",
   "metadata": {},
   "outputs": [
    {
     "name": "stdout",
     "output_type": "stream",
     "text": [
      "e36ea6b4-9cfa-464b-8395-6ec06ce6d782\n",
      "36e64912-ddb6-402a-aa94-70cd33e46ec9\n"
     ]
    }
   ],
   "source": [
    "with server.auth.sign_in(tableau_auth):\n",
    "    for file in ds_config_file_list:\n",
    "        if file in file_watcher_file_list:\n",
    "            ds_id = file.split('#')[1]\n",
    "            status = check_datasource_available(ds_id,tableau_auth)\n",
    "            if status:\n",
    "                ds = server.datasources.get_by_id(ds_id)\n",
    "                if ds.has_extracts:\n",
    "                    for task in all_tasks:\n",
    "                        if task.target.type == 'datasource' and task.target.id == ds_id:\n",
    "                            server.tasks.run(task.id)\n",
    "                        \n",
    "                \n",
    "                    "
   ]
  },
  {
   "cell_type": "code",
   "execution_count": null,
   "id": "913cbff1",
   "metadata": {},
   "outputs": [],
   "source": []
  },
  {
   "cell_type": "code",
   "execution_count": null,
   "id": "16aa5caa",
   "metadata": {},
   "outputs": [],
   "source": []
  },
  {
   "cell_type": "code",
   "execution_count": null,
   "id": "22765230",
   "metadata": {},
   "outputs": [],
   "source": []
  },
  {
   "cell_type": "code",
   "execution_count": null,
   "id": "c45ecad1",
   "metadata": {},
   "outputs": [],
   "source": []
  },
  {
   "cell_type": "code",
   "execution_count": 19,
   "id": "d5bed484",
   "metadata": {},
   "outputs": [],
   "source": [
    "project_name ='file_watcher_location'"
   ]
  },
  {
   "cell_type": "code",
   "execution_count": 20,
   "id": "f07fd6cf",
   "metadata": {},
   "outputs": [
    {
     "name": "stdout",
     "output_type": "stream",
     "text": [
      "Sample_ds_1 e36ea6b4-9cfa-464b-8395-6ec06ce6d782 file_watcher_location\n",
      "Sample_ds_2 36e64912-ddb6-402a-aa94-70cd33e46ec9 file_watcher_location\n"
     ]
    }
   ],
   "source": [
    "for ds in all_datasources:\n",
    "    if ds.project_name == project_name:\n",
    "        print(ds.name,ds.id,ds.project_name)"
   ]
  },
  {
   "cell_type": "code",
   "execution_count": 16,
   "id": "e35660cb",
   "metadata": {},
   "outputs": [
    {
     "name": "stdout",
     "output_type": "stream",
     "text": [
      "19a5db93-c7ed-46a4-8a2f-7e5cd25887f3 datasource ca0c0575-9701-4192-9526-30dd8d25ccd7\n",
      "01205113-e1ac-4934-92ce-392ab7bb1499 datasource e36ea6b4-9cfa-464b-8395-6ec06ce6d782\n"
     ]
    }
   ],
   "source": [
    "for ts in all_tasks:\n",
    "    print(ts.id,ts.target.type,ts.target.id)\n",
    "    server.tasks.run()"
   ]
  },
  {
   "cell_type": "markdown",
   "id": "07c60c7e",
   "metadata": {},
   "source": [
    "1.all the datasource will be extract??\n",
    "2.we can run extract task\n"
   ]
  }
 ],
 "metadata": {
  "kernelspec": {
   "display_name": "Python 3 (ipykernel)",
   "language": "python",
   "name": "python3"
  },
  "language_info": {
   "codemirror_mode": {
    "name": "ipython",
    "version": 3
   },
   "file_extension": ".py",
   "mimetype": "text/x-python",
   "name": "python",
   "nbconvert_exporter": "python",
   "pygments_lexer": "ipython3",
   "version": "3.9.11"
  }
 },
 "nbformat": 4,
 "nbformat_minor": 5
}
